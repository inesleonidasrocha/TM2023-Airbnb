{
 "cells": [
  {
   "attachments": {},
   "cell_type": "markdown",
   "metadata": {},
   "source": [
    "### INDEX\n",
    "\n",
    "[<font color='#bfd532'>1. Data Exploration</font>](#exploration) <br>\n",
    "[<font color='#bfd532'>1.1 Import Packages</font>](#imports) <br>\n",
    "[<font color='#bfd532'>2. Data Preprocessing</font>](#preprocessing) <br>\n",
    "[<font color='#bfd532'>3. Feature Engineering</font>](#featureengineering)<br>\n",
    "[<font color='#bfd532'>4. Classification Models </font>](#classificationmodels)<br>\n",
    "[<font color='#bfd532'>5. Evaluation</font>](#evaluation)<br>"
   ]
  },
  {
   "attachments": {},
   "cell_type": "markdown",
   "metadata": {},
   "source": [
    "# TM PROJECT NOTEBOOK\n"
   ]
  },
  {
   "attachments": {},
   "cell_type": "markdown",
   "metadata": {},
   "source": [
    "Group number: `3`\n",
    "\n",
    "Group members:\n",
    "1. `Alex Santander: 20220658`\n",
    "2. `Janaina ????: 20210684`\n",
    "3. `Inês Rocha: 20220052`\n",
    "4. `Skander Chaabini: 20221041`\n"
   ]
  },
  {
   "attachments": {},
   "cell_type": "markdown",
   "metadata": {},
   "source": [
    "<div class=\"alert alert-block alert-info\">\n",
    "\n",
    "# <font color='#bfd532'>1. Data Exploration</font> <a class=\"anchor\" id=\"exploration\"></a>\n",
    "    \n",
    "</div>"
   ]
  },
  {
   "attachments": {},
   "cell_type": "markdown",
   "metadata": {},
   "source": [
    "<div class=\"alert alert-block alert-info\">\n",
    "\n",
    "# <font color='#bfd532'>1.1 Import Packages</font> <a class=\"anchor\" id=\"imports\"></a>\n",
    "    \n",
    "</div>"
   ]
  },
  {
   "cell_type": "code",
   "execution_count": 10,
   "metadata": {},
   "outputs": [],
   "source": [
    "#!pip install install openpyxl"
   ]
  },
  {
   "cell_type": "code",
   "execution_count": 53,
   "metadata": {},
   "outputs": [
    {
     "name": "stdout",
     "output_type": "stream",
     "text": [
      "Defaulting to user installation because normal site-packages is not writeable\n",
      "Collecting nltk\n",
      "  Downloading nltk-3.8.1-py3-none-any.whl (1.5 MB)\n",
      "\u001b[2K     \u001b[90m━━━━━━━━━━━━━━━━━━━━━━━━━━━━━━━━━━━━━━━━\u001b[0m \u001b[32m1.5/1.5 MB\u001b[0m \u001b[31m3.3 MB/s\u001b[0m eta \u001b[36m0:00:00\u001b[0m00:01\u001b[0m00:01\u001b[0m\n",
      "\u001b[?25hRequirement already satisfied: click in /Users/nekas/Library/Python/3.9/lib/python/site-packages (from nltk) (8.1.3)\n",
      "Requirement already satisfied: joblib in /Library/Python/3.9/site-packages (from nltk) (1.2.0)\n",
      "Collecting regex>=2021.8.3 (from nltk)\n",
      "  Downloading regex-2023.6.3-cp39-cp39-macosx_10_9_x86_64.whl (294 kB)\n",
      "\u001b[2K     \u001b[90m━━━━━━━━━━━━━━━━━━━━━━━━━━━━━━━━━━━━━━━\u001b[0m \u001b[32m294.6/294.6 kB\u001b[0m \u001b[31m2.9 MB/s\u001b[0m eta \u001b[36m0:00:00\u001b[0ma \u001b[36m0:00:01\u001b[0m\n",
      "\u001b[?25hRequirement already satisfied: tqdm in /Users/nekas/Library/Python/3.9/lib/python/site-packages (from nltk) (4.65.0)\n",
      "Installing collected packages: regex, nltk\n",
      "Successfully installed nltk-3.8.1 regex-2023.6.3\n",
      "\n",
      "\u001b[1m[\u001b[0m\u001b[34;49mnotice\u001b[0m\u001b[1;39;49m]\u001b[0m\u001b[39;49m A new release of pip is available: \u001b[0m\u001b[31;49m23.1\u001b[0m\u001b[39;49m -> \u001b[0m\u001b[32;49m23.1.2\u001b[0m\n",
      "\u001b[1m[\u001b[0m\u001b[34;49mnotice\u001b[0m\u001b[1;39;49m]\u001b[0m\u001b[39;49m To update, run: \u001b[0m\u001b[32;49m/Library/Developer/CommandLineTools/usr/bin/python3 -m pip install --upgrade pip\u001b[0m\n"
     ]
    }
   ],
   "source": [
    "#!pip install nltk"
   ]
  },
  {
   "cell_type": "code",
   "execution_count": 55,
   "metadata": {},
   "outputs": [],
   "source": [
    "import numpy as np\n",
    "import pandas as pd\n",
    "import matplotlib.pyplot as plt\n",
    "import seaborn as sns\n",
    "import math\n",
    "import nltk"
   ]
  },
  {
   "cell_type": "code",
   "execution_count": 56,
   "metadata": {},
   "outputs": [
    {
     "name": "stderr",
     "output_type": "stream",
     "text": [
      "[nltk_data] Downloading package wordnet to /Users/nekas/nltk_data...\n",
      "[nltk_data]   Package wordnet is already up-to-date!\n",
      "[nltk_data] Downloading package punkt to /Users/nekas/nltk_data...\n",
      "[nltk_data]   Package punkt is already up-to-date!\n"
     ]
    },
    {
     "data": {
      "text/plain": [
       "True"
      ]
     },
     "execution_count": 56,
     "metadata": {},
     "output_type": "execute_result"
    }
   ],
   "source": [
    "nltk.download('wordnet')\n",
    "nltk.download('punkt')"
   ]
  },
  {
   "attachments": {},
   "cell_type": "markdown",
   "metadata": {},
   "source": [
    "## Loading Datasets"
   ]
  },
  {
   "cell_type": "code",
   "execution_count": 20,
   "metadata": {},
   "outputs": [],
   "source": [
    "train_reviews = pd.read_excel('Project_Corpora/train_reviews.xlsx')\n",
    "test_reviews = pd.read_excel('Project_Corpora/test_reviews.xlsx')\n",
    "train_data = pd.read_excel('Project_Corpora/train.xlsx',index_col=0)\n",
    "test_data = pd.read_excel('Project_Corpora/test.xlsx', index_col=0)"
   ]
  },
  {
   "cell_type": "code",
   "execution_count": 21,
   "metadata": {},
   "outputs": [
    {
     "data": {
      "text/html": [
       "<div>\n",
       "<style scoped>\n",
       "    .dataframe tbody tr th:only-of-type {\n",
       "        vertical-align: middle;\n",
       "    }\n",
       "\n",
       "    .dataframe tbody tr th {\n",
       "        vertical-align: top;\n",
       "    }\n",
       "\n",
       "    .dataframe thead th {\n",
       "        text-align: right;\n",
       "    }\n",
       "</style>\n",
       "<table border=\"1\" class=\"dataframe\">\n",
       "  <thead>\n",
       "    <tr style=\"text-align: right;\">\n",
       "      <th></th>\n",
       "      <th>description</th>\n",
       "      <th>host_about</th>\n",
       "      <th>unlisted</th>\n",
       "    </tr>\n",
       "    <tr>\n",
       "      <th>index</th>\n",
       "      <th></th>\n",
       "      <th></th>\n",
       "      <th></th>\n",
       "    </tr>\n",
       "  </thead>\n",
       "  <tbody>\n",
       "    <tr>\n",
       "      <th>1</th>\n",
       "      <td>This is a shared mixed room in our hostel, wit...</td>\n",
       "      <td>Alojamento Local Registro: 20835/AL</td>\n",
       "      <td>0</td>\n",
       "    </tr>\n",
       "    <tr>\n",
       "      <th>2</th>\n",
       "      <td>O meu espaço fica perto de Parque Eduardo VII,...</td>\n",
       "      <td>I am friendly host, and I will try to always b...</td>\n",
       "      <td>1</td>\n",
       "    </tr>\n",
       "    <tr>\n",
       "      <th>3</th>\n",
       "      <td>Trafaria’s House is a cozy and familiar villa ...</td>\n",
       "      <td>I am a social person liking to communicate, re...</td>\n",
       "      <td>1</td>\n",
       "    </tr>\n",
       "    <tr>\n",
       "      <th>4</th>\n",
       "      <td>Apartamento Charmoso no Chiado, Entre o Largo ...</td>\n",
       "      <td>Hello!_x000D_\\nI m Portuguese and i love to me...</td>\n",
       "      <td>0</td>\n",
       "    </tr>\n",
       "    <tr>\n",
       "      <th>5</th>\n",
       "      <td>Joli appartement  en bordure de mer.&lt;br /&gt; 2 m...</td>\n",
       "      <td>Nous sommes une famille avec deux enfants de 1...</td>\n",
       "      <td>0</td>\n",
       "    </tr>\n",
       "  </tbody>\n",
       "</table>\n",
       "</div>"
      ],
      "text/plain": [
       "                                             description  \\\n",
       "index                                                      \n",
       "1      This is a shared mixed room in our hostel, wit...   \n",
       "2      O meu espaço fica perto de Parque Eduardo VII,...   \n",
       "3      Trafaria’s House is a cozy and familiar villa ...   \n",
       "4      Apartamento Charmoso no Chiado, Entre o Largo ...   \n",
       "5      Joli appartement  en bordure de mer.<br /> 2 m...   \n",
       "\n",
       "                                              host_about  unlisted  \n",
       "index                                                               \n",
       "1                    Alojamento Local Registro: 20835/AL         0  \n",
       "2      I am friendly host, and I will try to always b...         1  \n",
       "3      I am a social person liking to communicate, re...         1  \n",
       "4      Hello!_x000D_\\nI m Portuguese and i love to me...         0  \n",
       "5      Nous sommes une famille avec deux enfants de 1...         0  "
      ]
     },
     "execution_count": 21,
     "metadata": {},
     "output_type": "execute_result"
    }
   ],
   "source": [
    "train_data.head()"
   ]
  },
  {
   "cell_type": "code",
   "execution_count": 22,
   "metadata": {},
   "outputs": [
    {
     "data": {
      "text/html": [
       "<div>\n",
       "<style scoped>\n",
       "    .dataframe tbody tr th:only-of-type {\n",
       "        vertical-align: middle;\n",
       "    }\n",
       "\n",
       "    .dataframe tbody tr th {\n",
       "        vertical-align: top;\n",
       "    }\n",
       "\n",
       "    .dataframe thead th {\n",
       "        text-align: right;\n",
       "    }\n",
       "</style>\n",
       "<table border=\"1\" class=\"dataframe\">\n",
       "  <thead>\n",
       "    <tr style=\"text-align: right;\">\n",
       "      <th></th>\n",
       "      <th>description</th>\n",
       "      <th>host_about</th>\n",
       "    </tr>\n",
       "    <tr>\n",
       "      <th>index</th>\n",
       "      <th></th>\n",
       "      <th></th>\n",
       "    </tr>\n",
       "  </thead>\n",
       "  <tbody>\n",
       "    <tr>\n",
       "      <th>1</th>\n",
       "      <td>&lt;b&gt;The space&lt;/b&gt;&lt;br /&gt;Apartment located in the...</td>\n",
       "      <td>Gosto de viajar, de conhecer pessoas, gosto de...</td>\n",
       "    </tr>\n",
       "    <tr>\n",
       "      <th>2</th>\n",
       "      <td>IMPORTANT: In response to COVID-19, this prope...</td>\n",
       "      <td>We are the be@home Team!\\n\\nYou can count on u...</td>\n",
       "    </tr>\n",
       "    <tr>\n",
       "      <th>3</th>\n",
       "      <td>Bright, beautiful, and spacious. This four-bed...</td>\n",
       "      <td>Hi there!\\n\\nWe're GuestReady, a professional ...</td>\n",
       "    </tr>\n",
       "    <tr>\n",
       "      <th>4</th>\n",
       "      <td>Charming Apartment Close to the Bay of Cascais...</td>\n",
       "      <td>:)</td>\n",
       "    </tr>\n",
       "    <tr>\n",
       "      <th>5</th>\n",
       "      <td>Se procura umas férias perto da praia, casino ...</td>\n",
       "      <td>Bem vindos a Portugal!_x000D_\\nAdoro o meu Paí...</td>\n",
       "    </tr>\n",
       "  </tbody>\n",
       "</table>\n",
       "</div>"
      ],
      "text/plain": [
       "                                             description  \\\n",
       "index                                                      \n",
       "1      <b>The space</b><br />Apartment located in the...   \n",
       "2      IMPORTANT: In response to COVID-19, this prope...   \n",
       "3      Bright, beautiful, and spacious. This four-bed...   \n",
       "4      Charming Apartment Close to the Bay of Cascais...   \n",
       "5      Se procura umas férias perto da praia, casino ...   \n",
       "\n",
       "                                              host_about  \n",
       "index                                                     \n",
       "1      Gosto de viajar, de conhecer pessoas, gosto de...  \n",
       "2      We are the be@home Team!\\n\\nYou can count on u...  \n",
       "3      Hi there!\\n\\nWe're GuestReady, a professional ...  \n",
       "4                                                     :)  \n",
       "5      Bem vindos a Portugal!_x000D_\\nAdoro o meu Paí...  "
      ]
     },
     "execution_count": 22,
     "metadata": {},
     "output_type": "execute_result"
    }
   ],
   "source": [
    "test_data.head()"
   ]
  },
  {
   "cell_type": "code",
   "execution_count": 23,
   "metadata": {},
   "outputs": [
    {
     "data": {
      "text/html": [
       "<div>\n",
       "<style scoped>\n",
       "    .dataframe tbody tr th:only-of-type {\n",
       "        vertical-align: middle;\n",
       "    }\n",
       "\n",
       "    .dataframe tbody tr th {\n",
       "        vertical-align: top;\n",
       "    }\n",
       "\n",
       "    .dataframe thead th {\n",
       "        text-align: right;\n",
       "    }\n",
       "</style>\n",
       "<table border=\"1\" class=\"dataframe\">\n",
       "  <thead>\n",
       "    <tr style=\"text-align: right;\">\n",
       "      <th></th>\n",
       "      <th>index</th>\n",
       "      <th>comments</th>\n",
       "    </tr>\n",
       "  </thead>\n",
       "  <tbody>\n",
       "    <tr>\n",
       "      <th>0</th>\n",
       "      <td>1</td>\n",
       "      <td>this is a very cozy and comfortable house to s...</td>\n",
       "    </tr>\n",
       "    <tr>\n",
       "      <th>1</th>\n",
       "      <td>1</td>\n",
       "      <td>good&lt;br/&gt;</td>\n",
       "    </tr>\n",
       "    <tr>\n",
       "      <th>2</th>\n",
       "      <td>1</td>\n",
       "      <td>My first hostel experience, and all I have to ...</td>\n",
       "    </tr>\n",
       "  </tbody>\n",
       "</table>\n",
       "</div>"
      ],
      "text/plain": [
       "   index                                           comments\n",
       "0      1  this is a very cozy and comfortable house to s...\n",
       "1      1                                          good<br/>\n",
       "2      1  My first hostel experience, and all I have to ..."
      ]
     },
     "execution_count": 23,
     "metadata": {},
     "output_type": "execute_result"
    }
   ],
   "source": [
    "train_reviews.head(3)"
   ]
  },
  {
   "cell_type": "code",
   "execution_count": 24,
   "metadata": {},
   "outputs": [
    {
     "data": {
      "text/html": [
       "<div>\n",
       "<style scoped>\n",
       "    .dataframe tbody tr th:only-of-type {\n",
       "        vertical-align: middle;\n",
       "    }\n",
       "\n",
       "    .dataframe tbody tr th {\n",
       "        vertical-align: top;\n",
       "    }\n",
       "\n",
       "    .dataframe thead th {\n",
       "        text-align: right;\n",
       "    }\n",
       "</style>\n",
       "<table border=\"1\" class=\"dataframe\">\n",
       "  <thead>\n",
       "    <tr style=\"text-align: right;\">\n",
       "      <th></th>\n",
       "      <th>index</th>\n",
       "      <th>comments</th>\n",
       "    </tr>\n",
       "  </thead>\n",
       "  <tbody>\n",
       "    <tr>\n",
       "      <th>0</th>\n",
       "      <td>1</td>\n",
       "      <td>Thank you very much Antonio ! All has been per...</td>\n",
       "    </tr>\n",
       "    <tr>\n",
       "      <th>1</th>\n",
       "      <td>1</td>\n",
       "      <td>Very nice appartment in the old town of Lissab...</td>\n",
       "    </tr>\n",
       "    <tr>\n",
       "      <th>2</th>\n",
       "      <td>1</td>\n",
       "      <td>When travelling we're looking for kids friendl...</td>\n",
       "    </tr>\n",
       "    <tr>\n",
       "      <th>3</th>\n",
       "      <td>1</td>\n",
       "      <td>We've been in Lisbon in march 2013 (3 adults a...</td>\n",
       "    </tr>\n",
       "    <tr>\n",
       "      <th>4</th>\n",
       "      <td>1</td>\n",
       "      <td>Our host Antonio was very helpful with informa...</td>\n",
       "    </tr>\n",
       "  </tbody>\n",
       "</table>\n",
       "</div>"
      ],
      "text/plain": [
       "   index                                           comments\n",
       "0      1  Thank you very much Antonio ! All has been per...\n",
       "1      1  Very nice appartment in the old town of Lissab...\n",
       "2      1  When travelling we're looking for kids friendl...\n",
       "3      1  We've been in Lisbon in march 2013 (3 adults a...\n",
       "4      1  Our host Antonio was very helpful with informa..."
      ]
     },
     "execution_count": 24,
     "metadata": {},
     "output_type": "execute_result"
    }
   ],
   "source": [
    "test_reviews.head()"
   ]
  },
  {
   "cell_type": "code",
   "execution_count": 25,
   "metadata": {},
   "outputs": [
    {
     "name": "stdout",
     "output_type": "stream",
     "text": [
      "<class 'pandas.core.frame.DataFrame'>\n",
      "Int64Index: 12496 entries, 1 to 12496\n",
      "Data columns (total 3 columns):\n",
      " #   Column       Non-Null Count  Dtype \n",
      "---  ------       --------------  ----- \n",
      " 0   description  12496 non-null  object\n",
      " 1   host_about   12496 non-null  object\n",
      " 2   unlisted     12496 non-null  int64 \n",
      "dtypes: int64(1), object(2)\n",
      "memory usage: 390.5+ KB\n"
     ]
    }
   ],
   "source": [
    "train_data.info()"
   ]
  },
  {
   "attachments": {},
   "cell_type": "markdown",
   "metadata": {},
   "source": [
    "We don't have missing values in any of the columns in our train_data dataframe"
   ]
  },
  {
   "cell_type": "code",
   "execution_count": 27,
   "metadata": {},
   "outputs": [
    {
     "name": "stdout",
     "output_type": "stream",
     "text": [
      "<class 'pandas.core.frame.DataFrame'>\n",
      "Int64Index: 1389 entries, 1 to 1389\n",
      "Data columns (total 2 columns):\n",
      " #   Column       Non-Null Count  Dtype \n",
      "---  ------       --------------  ----- \n",
      " 0   description  1389 non-null   object\n",
      " 1   host_about   1389 non-null   object\n",
      "dtypes: object(2)\n",
      "memory usage: 32.6+ KB\n"
     ]
    }
   ],
   "source": [
    "test_data.info()"
   ]
  },
  {
   "attachments": {},
   "cell_type": "markdown",
   "metadata": {},
   "source": [
    "We also don't have missing values in any of the columns in our train_data dataframe"
   ]
  },
  {
   "cell_type": "code",
   "execution_count": 35,
   "metadata": {},
   "outputs": [
    {
     "name": "stdout",
     "output_type": "stream",
     "text": [
      "<class 'pandas.core.frame.DataFrame'>\n",
      "RangeIndex: 721402 entries, 0 to 721401\n",
      "Data columns (total 2 columns):\n",
      " #   Column    Non-Null Count   Dtype \n",
      "---  ------    --------------   ----- \n",
      " 0   index     721402 non-null  int64 \n",
      " 1   comments  721402 non-null  object\n",
      "dtypes: int64(1), object(1)\n",
      "memory usage: 11.0+ MB\n"
     ]
    }
   ],
   "source": [
    "train_reviews.info()"
   ]
  },
  {
   "cell_type": "code",
   "execution_count": 36,
   "metadata": {},
   "outputs": [
    {
     "name": "stdout",
     "output_type": "stream",
     "text": [
      "<class 'pandas.core.frame.DataFrame'>\n",
      "RangeIndex: 80877 entries, 0 to 80876\n",
      "Data columns (total 2 columns):\n",
      " #   Column    Non-Null Count  Dtype \n",
      "---  ------    --------------  ----- \n",
      " 0   index     80877 non-null  int64 \n",
      " 1   comments  80877 non-null  object\n",
      "dtypes: int64(1), object(1)\n",
      "memory usage: 1.2+ MB\n"
     ]
    }
   ],
   "source": [
    "test_reviews.info()"
   ]
  },
  {
   "attachments": {},
   "cell_type": "markdown",
   "metadata": {},
   "source": [
    "We also don't have missing values in any of the columns in the train_reviews and test_reviews dataframe"
   ]
  },
  {
   "cell_type": "code",
   "execution_count": 28,
   "metadata": {},
   "outputs": [
    {
     "data": {
      "text/plain": [
       "array([0, 1])"
      ]
     },
     "execution_count": 28,
     "metadata": {},
     "output_type": "execute_result"
    }
   ],
   "source": [
    "train_data['unlisted'].unique()"
   ]
  },
  {
   "attachments": {},
   "cell_type": "markdown",
   "metadata": {},
   "source": [
    "We confirm that our target variable is binary and we check its distribution"
   ]
  },
  {
   "cell_type": "code",
   "execution_count": 31,
   "metadata": {},
   "outputs": [
    {
     "data": {
      "text/html": [
       "<div>\n",
       "<style scoped>\n",
       "    .dataframe tbody tr th:only-of-type {\n",
       "        vertical-align: middle;\n",
       "    }\n",
       "\n",
       "    .dataframe tbody tr th {\n",
       "        vertical-align: top;\n",
       "    }\n",
       "\n",
       "    .dataframe thead th {\n",
       "        text-align: right;\n",
       "    }\n",
       "</style>\n",
       "<table border=\"1\" class=\"dataframe\">\n",
       "  <thead>\n",
       "    <tr style=\"text-align: right;\">\n",
       "      <th></th>\n",
       "      <th>count</th>\n",
       "      <th>mean</th>\n",
       "      <th>std</th>\n",
       "      <th>min</th>\n",
       "      <th>25%</th>\n",
       "      <th>50%</th>\n",
       "      <th>75%</th>\n",
       "      <th>max</th>\n",
       "    </tr>\n",
       "  </thead>\n",
       "  <tbody>\n",
       "    <tr>\n",
       "      <th>unlisted</th>\n",
       "      <td>12496.0</td>\n",
       "      <td>0.277129</td>\n",
       "      <td>0.447598</td>\n",
       "      <td>0.0</td>\n",
       "      <td>0.0</td>\n",
       "      <td>0.0</td>\n",
       "      <td>1.0</td>\n",
       "      <td>1.0</td>\n",
       "    </tr>\n",
       "  </tbody>\n",
       "</table>\n",
       "</div>"
      ],
      "text/plain": [
       "            count      mean       std  min  25%  50%  75%  max\n",
       "unlisted  12496.0  0.277129  0.447598  0.0  0.0  0.0  1.0  1.0"
      ]
     },
     "execution_count": 31,
     "metadata": {},
     "output_type": "execute_result"
    }
   ],
   "source": [
    "train_data.describe().T"
   ]
  },
  {
   "attachments": {},
   "cell_type": "markdown",
   "metadata": {},
   "source": [
    "Since the mean is closer to zero, we know that we have many more listings that were keep in the next quarte that the ones that \"churned\"."
   ]
  },
  {
   "cell_type": "code",
   "execution_count": 48,
   "metadata": {},
   "outputs": [
    {
     "data": {
      "text/plain": [
       "<Axes: >"
      ]
     },
     "execution_count": 48,
     "metadata": {},
     "output_type": "execute_result"
    },
    {
     "data": {
      "image/png": "[encoded data removed]",
      "text/plain": [
       "<Figure size 640x480 with 1 Axes>"
      ]
     },
     "metadata": {},
     "output_type": "display_data"
    }
   ],
   "source": [
    "train_data['unlisted'].hist()"
   ]
  },
  {
   "cell_type": "code",
   "execution_count": 51,
   "metadata": {},
   "outputs": [
    {
     "data": {
      "text/plain": [
       "<Axes: >"
      ]
     },
     "execution_count": 51,
     "metadata": {},
     "output_type": "execute_result"
    },
    {
     "data": {
      "image/png": "[encoded data removed]",
      "text/plain": [
       "<Figure size 640x480 with 1 Axes>"
      ]
     },
     "metadata": {},
     "output_type": "display_data"
    }
   ],
   "source": [
    "train_reviews['index'].hist()"
   ]
  },
  {
   "cell_type": "code",
   "execution_count": 52,
   "metadata": {},
   "outputs": [
    {
     "data": {
      "text/plain": [
       "<Axes: >"
      ]
     },
     "execution_count": 52,
     "metadata": {},
     "output_type": "execute_result"
    },
    {
     "data": {
      "image/png": "[encoded data removed]",
      "text/plain": [
       "<Figure size 640x480 with 1 Axes>"
      ]
     },
     "metadata": {},
     "output_type": "display_data"
    }
   ],
   "source": [
    "test_reviews['index'].hist()"
   ]
  },
  {
   "attachments": {},
   "cell_type": "markdown",
   "metadata": {},
   "source": [
    "i wanted to see if a listing stood out more in terms of reviews that others. maybe i have to try another approach."
   ]
  },
  {
   "cell_type": "code",
   "execution_count": 30,
   "metadata": {},
   "outputs": [
    {
     "data": {
      "text/html": [
       "<div>\n",
       "<style scoped>\n",
       "    .dataframe tbody tr th:only-of-type {\n",
       "        vertical-align: middle;\n",
       "    }\n",
       "\n",
       "    .dataframe tbody tr th {\n",
       "        vertical-align: top;\n",
       "    }\n",
       "\n",
       "    .dataframe thead th {\n",
       "        text-align: right;\n",
       "    }\n",
       "</style>\n",
       "<table border=\"1\" class=\"dataframe\">\n",
       "  <thead>\n",
       "    <tr style=\"text-align: right;\">\n",
       "      <th></th>\n",
       "      <th>count</th>\n",
       "      <th>unique</th>\n",
       "      <th>top</th>\n",
       "      <th>freq</th>\n",
       "    </tr>\n",
       "  </thead>\n",
       "  <tbody>\n",
       "    <tr>\n",
       "      <th>description</th>\n",
       "      <td>12496</td>\n",
       "      <td>11788</td>\n",
       "      <td>&lt;b&gt;License number&lt;/b&gt;&lt;br /&gt;Exempt</td>\n",
       "      <td>50</td>\n",
       "    </tr>\n",
       "    <tr>\n",
       "      <th>host_about</th>\n",
       "      <td>12496</td>\n",
       "      <td>4396</td>\n",
       "      <td>We are Feels Like Home Holiday Rentals.\\nA com...</td>\n",
       "      <td>304</td>\n",
       "    </tr>\n",
       "  </tbody>\n",
       "</table>\n",
       "</div>"
      ],
      "text/plain": [
       "             count unique                                                top  \\\n",
       "description  12496  11788                  <b>License number</b><br />Exempt   \n",
       "host_about   12496   4396  We are Feels Like Home Holiday Rentals.\\nA com...   \n",
       "\n",
       "            freq  \n",
       "description   50  \n",
       "host_about   304  "
      ]
     },
     "execution_count": 30,
     "metadata": {},
     "output_type": "execute_result"
    }
   ],
   "source": [
    "train_data.describe(include = \"object\").T"
   ]
  },
  {
   "cell_type": "code",
   "execution_count": 32,
   "metadata": {},
   "outputs": [
    {
     "data": {
      "text/html": [
       "<div>\n",
       "<style scoped>\n",
       "    .dataframe tbody tr th:only-of-type {\n",
       "        vertical-align: middle;\n",
       "    }\n",
       "\n",
       "    .dataframe tbody tr th {\n",
       "        vertical-align: top;\n",
       "    }\n",
       "\n",
       "    .dataframe thead th {\n",
       "        text-align: right;\n",
       "    }\n",
       "</style>\n",
       "<table border=\"1\" class=\"dataframe\">\n",
       "  <thead>\n",
       "    <tr style=\"text-align: right;\">\n",
       "      <th></th>\n",
       "      <th>count</th>\n",
       "      <th>unique</th>\n",
       "      <th>top</th>\n",
       "      <th>freq</th>\n",
       "    </tr>\n",
       "  </thead>\n",
       "  <tbody>\n",
       "    <tr>\n",
       "      <th>description</th>\n",
       "      <td>1389</td>\n",
       "      <td>1373</td>\n",
       "      <td>&lt;b&gt;The space&lt;/b&gt;&lt;br /&gt;Lisbon Nouveau apartment...</td>\n",
       "      <td>3</td>\n",
       "    </tr>\n",
       "    <tr>\n",
       "      <th>host_about</th>\n",
       "      <td>1389</td>\n",
       "      <td>946</td>\n",
       "      <td>We are Feels Like Home Holiday Rentals.\\nA com...</td>\n",
       "      <td>32</td>\n",
       "    </tr>\n",
       "  </tbody>\n",
       "</table>\n",
       "</div>"
      ],
      "text/plain": [
       "            count unique                                                top  \\\n",
       "description  1389   1373  <b>The space</b><br />Lisbon Nouveau apartment...   \n",
       "host_about   1389    946  We are Feels Like Home Holiday Rentals.\\nA com...   \n",
       "\n",
       "            freq  \n",
       "description    3  \n",
       "host_about    32  "
      ]
     },
     "execution_count": 32,
     "metadata": {},
     "output_type": "execute_result"
    }
   ],
   "source": [
    "test_data.describe(include = \"object\").T"
   ]
  },
  {
   "cell_type": "code",
   "execution_count": 33,
   "metadata": {},
   "outputs": [
    {
     "data": {
      "text/html": [
       "<div>\n",
       "<style scoped>\n",
       "    .dataframe tbody tr th:only-of-type {\n",
       "        vertical-align: middle;\n",
       "    }\n",
       "\n",
       "    .dataframe tbody tr th {\n",
       "        vertical-align: top;\n",
       "    }\n",
       "\n",
       "    .dataframe thead th {\n",
       "        text-align: right;\n",
       "    }\n",
       "</style>\n",
       "<table border=\"1\" class=\"dataframe\">\n",
       "  <thead>\n",
       "    <tr style=\"text-align: right;\">\n",
       "      <th></th>\n",
       "      <th>count</th>\n",
       "      <th>unique</th>\n",
       "      <th>top</th>\n",
       "      <th>freq</th>\n",
       "    </tr>\n",
       "  </thead>\n",
       "  <tbody>\n",
       "    <tr>\n",
       "      <th>comments</th>\n",
       "      <td>721402</td>\n",
       "      <td>705644</td>\n",
       "      <td>.</td>\n",
       "      <td>908</td>\n",
       "    </tr>\n",
       "  </tbody>\n",
       "</table>\n",
       "</div>"
      ],
      "text/plain": [
       "           count  unique top freq\n",
       "comments  721402  705644   .  908"
      ]
     },
     "execution_count": 33,
     "metadata": {},
     "output_type": "execute_result"
    }
   ],
   "source": [
    "train_reviews.describe(include = \"object\").T"
   ]
  },
  {
   "cell_type": "code",
   "execution_count": 34,
   "metadata": {},
   "outputs": [
    {
     "data": {
      "text/html": [
       "<div>\n",
       "<style scoped>\n",
       "    .dataframe tbody tr th:only-of-type {\n",
       "        vertical-align: middle;\n",
       "    }\n",
       "\n",
       "    .dataframe tbody tr th {\n",
       "        vertical-align: top;\n",
       "    }\n",
       "\n",
       "    .dataframe thead th {\n",
       "        text-align: right;\n",
       "    }\n",
       "</style>\n",
       "<table border=\"1\" class=\"dataframe\">\n",
       "  <thead>\n",
       "    <tr style=\"text-align: right;\">\n",
       "      <th></th>\n",
       "      <th>count</th>\n",
       "      <th>unique</th>\n",
       "      <th>top</th>\n",
       "      <th>freq</th>\n",
       "    </tr>\n",
       "  </thead>\n",
       "  <tbody>\n",
       "    <tr>\n",
       "      <th>comments</th>\n",
       "      <td>80877</td>\n",
       "      <td>79859</td>\n",
       "      <td>.</td>\n",
       "      <td>131</td>\n",
       "    </tr>\n",
       "  </tbody>\n",
       "</table>\n",
       "</div>"
      ],
      "text/plain": [
       "          count unique top freq\n",
       "comments  80877  79859   .  131"
      ]
     },
     "execution_count": 34,
     "metadata": {},
     "output_type": "execute_result"
    }
   ],
   "source": [
    "test_reviews.describe(include = \"object\").T"
   ]
  },
  {
   "cell_type": "code",
   "execution_count": 39,
   "metadata": {},
   "outputs": [
    {
     "name": "stdout",
     "output_type": "stream",
     "text": [
      "Number of \"duplicated\" reviews = 305\n"
     ]
    }
   ],
   "source": [
    "print('Number of \"duplicated\" reviews = ' + str(train_reviews.duplicated().sum() ) )"
   ]
  },
  {
   "attachments": {},
   "cell_type": "markdown",
   "metadata": {},
   "source": [
    "We have 305 reviews that share the same listing and description. They are not duplicated per say it because in the train_reviews dataframe we just have the listing id, host_about and description but the reviews can be made by multiple people. ---> Explain this better "
   ]
  },
  {
   "cell_type": "code",
   "execution_count": 40,
   "metadata": {},
   "outputs": [
    {
     "name": "stdout",
     "output_type": "stream",
     "text": [
      "Number of \"duplicated\" reviews = 30\n"
     ]
    }
   ],
   "source": [
    "print('Number of \"duplicated\" reviews = ' + str(test_reviews.duplicated().sum() ) )"
   ]
  },
  {
   "attachments": {},
   "cell_type": "markdown",
   "metadata": {},
   "source": [
    "We have 30 reviews that share the same listing and description."
   ]
  },
  {
   "cell_type": "code",
   "execution_count": 44,
   "metadata": {},
   "outputs": [
    {
     "data": {
      "text/plain": [
       "<b>License number</b><br />Exempt                                                                                                                                                                                                                                                                                                                                                                                                                                                                                                                                                                                                                                                                                                                                                                                                                                                                                                                                                                                                           50\n",
       "Arrendamento mensal. Quarto mobilado e climatizado com WC privativo e Smart TV disponível para entrada imediata. Cozinha e sala de estar partilhadas. Despesas (água, luz, internet e TV) e limpeza semanal incluídas no preço. Localização privilegiada em frente à Praça de Touros do Campo Pequeno, com a estação de metro e autocarro à porta.<br /><br /><b>License number</b><br />100844/AL                                                                                                                                                                                                                                                                                                                                                                                                                                                                                                                                                                                                                                          10\n",
       "Set in a stunning seaside location, this luxury property is tucked between the village of Cascais and Guincho Beach, offering a serene oasis of natural landscapes and proximity to local attractions. Head to the cobblestone streets of Cascais City Center to explore forts, museums, and parks. Enjoy a round of golf at a top-ranked course such as Oitavos Dunes. Or visit Guincho Beach for a day of windsurfing, relaxing on the sand, or exploring the wild dunes and rocky cliffs.<br /><br /><b>The space</b><br />With a breathtaking location and luxury amenities including a spa, 2 outdoor pools, and an on-site restaurant, this intimate property is the perfect location for a romantic getaway or fun family vacation. Guests will also enjoy a free buffet breakfast and parking, as well as laundry services for a memorable, stress-free stay.  <br /> <br />The listing is distributed and managed by RoomPicks Accommodations. <br /> <br />PLEASE NOTE: These are TWO separate units located in the hotel-styl     9\n",
       "Set in a stunning seaside location, this luxury property is tucked between the village of Cascais and Guincho Beach, offering a serene oasis of natural landscapes and proximity to local attractions. Head to the cobblestone streets of Cascais City Center to explore forts, museums, and parks. Enjoy a round of golf at a top-ranked course such as Oitavos Dunes. Or visit Guincho Beach for a day of windsurfing, relaxing on the sand, or exploring the wild dunes and rocky cliffs.<br /><br /><b>The space</b><br />With a breathtaking location and luxury amenities including a spa, 2 outdoor pools, and an on-site restaurant, this intimate property is the perfect location for a romantic getaway or fun family vacation. Guests will also enjoy a free buffet breakfast and parking, as well as laundry services for a memorable, stress-free stay.  <br /> <br />The listing is distributed and managed by RoomPicks Accommodations. <br /> <br />PLEASE NOTE: These are THREE separate units located in the hotel-st     9\n",
       "It’s in the light that bathes the Tagus river and pours over buildings and historic monuments, it’s in the sways of the streets that meander through the city, in the aesthetic beauty that reveals itself round every corner and in the delicacies of the local cuisine and the Lisbon lifestyle<br />Housed in a revamped Pombaline style building, Madalena Orquídea Living brings together the grace and lifestyle of Lisbon.<br /><br /><b>The space</b><br />The architecture of our building is reminiscent of a period in which the city was reconstructed after the Great Earthquake of 1755 and the project lives in harmony with the Madalena Orquídea Living contemporary art collection.<br /><br />In each floor small details alter according to the building’s original architectural design, which means no apartment is exactly the same as another. <br />The original wooden frames adopted in local architecture after the Great Earthquake of 1755 were created to minimize the impact of movement in case of trem     8\n",
       "                                                                                                                                                                                                                                                                                                                                                                                                                                                                                                                                                                                                                                                                                                                                                                                                                                                                                                                                                                                                                                            ..\n",
       "The apartment is newly renovated and furnished. It gets a lot of natural light and is in a very quiet building with 4 units. <br /><br />There is a queen bed, a single trundle that turns into a double bed and a sofa bed. There is a large terrace exclusive to the unit. <br /><br />The Campo de Ourique neighborhood is full of locals and more easily managed than the crowded, hilly parts of Lisbon. It is close to many parks, restaurants, cafes, shops, malls and public transportation.<br /><br /><b>The space</b><br />Guests are welcome to use the whole house. There is really fast WiFi and Netflix available for guests to use. There is a mini market downstairs and a great little cafe right across the street. Lots of parks within walking distance - great for adults and kids alike. Close to 2 bus routes, the Rato metro station and the trams.<br /><br /><b>Other things to note</b><br />House is on the first floor.<br /><br /><b>License number</b><br />102234/AL                                        1\n",
       "Espaço amplo e aberto com áreas espaçosas e com direito a quintal preparado para momentos de lazer.<br /><br /><b>The space</b><br />Friendly and harm family environment.<br /><br /><b>Guest access</b><br />You can use the entire house with the exception of the two locked rooms.<br /><br /><b>Other things to note</b><br />At certain times you can have the whole apartment to yourself but sometimes it will be shared with me or my family.<br /><br /><b>License number</b><br />98384/AL                                                                                                                                                                                                                                                                                                                                                                                                                                                                                                                                       1\n",
       "A casa é um rés do chão sem escadas, entrada direta, de acesso fácil. Tem dois quartos e uma sala com capacidade para 4 pessoas. Dispõe de um espaço exterior bastante aprazível. A casa está localizada numa rua tranquila, em Belém. Rapidamente, a pé estamos nos principais monumentos históricos de Belém: Mosteiro dos Jerónimos, CCB, Museu dos Coches, Palácio de Belém, Padrão dos Descobrimentos, Torre de Belém , Pasteis de Belém e Maat.<br /><br /><b>Guest access</b><br />Toda a casa.<br /><br /><b>License number</b><br />83910/AL                                                                                                                                                                                                                                                                                                                                                                                                                                                                                        1\n",
       "Completely renewed apartment at the top of the Lisbon highest hill - at the viewpoint of Senhora do Monte. This 2 bedroom apartment is ideal for 4 persons on a  modern setting.<br /><br /><b>License number</b><br />96298/AL.                                                                                                                                                                                                                                                                                                                                                                                                                                                                                                                                                                                                                                                                                                                                                                                                             1\n",
       "This brandnew Apartment combines elegant charme and excellent location near the LX Factory, the River and Belém.<br /><br /><b>The space</b><br />The apartment features hardwood floors, an open concept kitchen living area with large windows and a bedroom with orthopedic matress.<br />The bathroom has a beautifuland large shower.<br /><br /><b>Guest access</b><br />You can enjoythe entire unit exclusively<br /><br /><b>License number</b><br />120150/AL                                                                                                                                                                                                                                                                                                                                                                                                                                                                                                                                                                      1\n",
       "Name: description, Length: 11788, dtype: int64"
      ]
     },
     "execution_count": 44,
     "metadata": {},
     "output_type": "execute_result"
    }
   ],
   "source": [
    "train_data['description'].value_counts()"
   ]
  },
  {
   "cell_type": "code",
   "execution_count": 45,
   "metadata": {},
   "outputs": [
    {
     "data": {
      "text/plain": [
       "We are Feels Like Home Holiday Rentals.\\nA company that was born with a unique purpose: to bring you the best living experience during your trip to Portugal.\\nThat’s right we want you to feel like home! We offer beautifully furnished, well-located apartments and houses for your holiday or business stay. We're ideal for travelers who enjoy sleeping in comfortable homes at comfortable prices!\\nWe offer you options!\\nChoose from over 500 carefully selected properties in Portugal, suited for every taste and every occasion. From studios to rustic country homes to sleek city duplexes, whether it´s in Algarve, Ericeira, Lisbon, Madeira, Porto, or somewhere in between, we have a property that's right for you!                                                                                                                                                  304\n",
       "Dear guest.\\n\\nWe take pride in helping thousands of busy hosts across Europe to rent their properties professionally so you can have the stay of your dreams. This and every other home we manage provides hotel-like quality services, such as professional cleaning before your stay, quality linen, towels, and essentials. If you need further information on this and any other ALTIDO home, just call us and we’ll be happy to help anytime, 24 hours a day. We are committed to providing the best experience for you: from “Welcome” to \"See you soon”. Stay in an ALTIDO! \\n\\nSpoken languages: Portuguese (Brazil), English (US), Spanish, French, English (UK), Portuguese (Portugal).\\n\\n                                                                                                                                                                                  220\n",
       "Hi there!\\n\\nWe're GuestReady, a professional property management company helping hosts around the world deliver outstanding experiences to their guests.\\n\\nWe welcome all guests, clean and prepare our homes for your arrival and will be available 24/7, should you have any questions or requests. From the second you book with us to the moment you check-out, we’re here to make sure you have a smooth and comfortable stay!\\n\\nWith our years of experience in the hospitality business, you can be assured of a fantastic stay at any of GuestReady's properties. We manage multiple properties around town, so if you're looking for something specific, do let us know and we'd be happy to help you find the perfect place just for you.\\nWe're looking forward to meeting you and are always ready to answer any of your questions!\\n\\nWarm regards,\\nGuestReady Team    127\n",
       "Founded by travel enthusiasts (just like you) BnBird wants to connect guests, with new traveling experiences in Portugal, while offering an unique hosting approach.\\nBeing natural born Portuguese, and Lisbon lovers, we found that our country, is one of the best places in the World to do it. That’s why we founded BnBird, to give our guests the opportunity to discover our country, its history and charm, with a more local perspective.                                                                                                                                                                                                                                                                                                                                                                                                                                     114\n",
       "Hi, we are Homing - a company that develops its activity in tourism by providing our guests a whole support service that goes from offering short term local accommodation in excellent quality apartments to support them in every aspects throughout their stay in Lisbon. Hence our slogan “All you need in Lisbon”. Check all services we offer on our website and visit us at our Welcome Center in Largo do Rato, 7._x000D_\\n_x000D_\\nOur goal is to provide our guests a unique and unforgetable stay, starting with excellent accomodation and all services they might need in Lisbon.                                                                                                                                                                                                                                                                                           90\n",
       "                                                                                                                                                                                                                                                                                                                                                                                                                                                                                                                                                                                                                                                                                                                                                                                                                                                                                       ... \n",
       "Adoro viajar, conhecer pessoas novas, falar do meu país, e dar a conhecer a minha cidade de Lisboa.                                                                                                                                                                                                                                                                                                                                                                                                                                                                                                                                                                                                                                                                                                                                                                                       1\n",
       "Gosto muito de viajar e receber pessoas._x000D_\\nJá fiquei várias vezes no estrangeiro pelo Airbnb e sempre com boas experiências. _x000D_\\nEstou agora a iniciar este novo projecto de ser Anfitrião.                                                                                                                                                                                                                                                                                                                                                                                                                                                                                                                                                                                                                                                                                    1\n",
       "Dublin born hospitality entrepreneur                                                                                                                                                                                                                                                                                                                                                                                                                                                                                                                                                                                                                                                                                                                                                                                                                                                      1\n",
       "I run a small wine bar right next door to this apartment. At the moment Lisbon is the place where I want to be. I love this city, its people, food, culture, sights and light which you don't find anywhere else.                                                                                                                                                                                                                                                                                                                                                                                                                                                                                                                                                                                                                                                                         1\n",
       "Somos uma familia de 5. Gostamos de viajar e de receber amigos. De praia e de campo. De sol e de sal.                                                                                                                                                                                                                                                                                                                                                                                                                                                                                                                                                                                                                                                                                                                                                                                     1\n",
       "Name: host_about, Length: 4396, dtype: int64"
      ]
     },
     "execution_count": 45,
     "metadata": {},
     "output_type": "execute_result"
    }
   ],
   "source": [
    "train_data['host_about'].value_counts()"
   ]
  },
  {
   "cell_type": "code",
   "execution_count": 46,
   "metadata": {},
   "outputs": [
    {
     "data": {
      "text/plain": [
       ".                                                                                                                                                                                                                                                                                                                                                                       908\n",
       "Great location!                                                                                                                                                                                                                                                                                                                                                         256\n",
       "Great location                                                                                                                                                                                                                                                                                                                                                          249\n",
       "Great place!                                                                                                                                                                                                                                                                                                                                                            215\n",
       "Great place                                                                                                                                                                                                                                                                                                                                                             183\n",
       "                                                                                                                                                                                                                                                                                                                                                                       ... \n",
       "Brilliant location, spotless clean and very modern! I’d really enjoyed the stay and I’d recommend it anytime!                                                                                                                                                                                                                                                             1\n",
       "This is a GREAT apartment. Perfectly located and the hosts are extremely informative and helpful. Love the view of the castle and main square.                                                                                                                                                                                                                            1\n",
       "O apartamento está bem localizado e a comunicação com Pedro e Mila é ótima! <br/>Agradecemos a estadia!                                                                                                                                                                                                                                                                   1\n",
       "A brilliant place to stay, Pedro's apartment is the perfect location (right above an Asian food hall, and Bairro Alto and Graca are only a short walk away). I felt safe as a woman travelling and staying alone, and I couldn't recommend this Airbnb more! It was clean, looked exactly like the photos and any issues were quickly communicated :) I'll be back!!      1\n",
       "Clean, very good position, easy checkin, the place had everything we needed and was as comfortable as it gets. It is at the 3rd floor with very steep stairs for who needs to know!                                                                                                                                                                                       1\n",
       "Name: comments, Length: 705644, dtype: int64"
      ]
     },
     "execution_count": 46,
     "metadata": {},
     "output_type": "execute_result"
    }
   ],
   "source": [
    "train_reviews['comments'].value_counts()"
   ]
  },
  {
   "cell_type": "code",
   "execution_count": 47,
   "metadata": {},
   "outputs": [
    {
     "data": {
      "text/plain": [
       ".                                                                                                                                                                                                                                                                                                                                                                                                                                                                                                                                                                                                                                                                                                                                                                                                                                                                                                                                                                                                                                                                                                                                                                                                                                                                                                                                                                                                                                                                                                                                                                                                                                                                                                                                                                                                                                                                                                                                                                                                                                                                                                                                                                                                                                                                                                                                                                                                                                                                                                                                                                                                                                                                                                                                                                                                                                                                                                                                                                                                                                                                                                                                                                                         131\n",
       "Great location!                                                                                                                                                                                                                                                                                                                                                                                                                                                                                                                                                                                                                                                                                                                                                                                                                                                                                                                                                                                                                                                                                                                                                                                                                                                                                                                                                                                                                                                                                                                                                                                                                                                                                                                                                                                                                                                                                                                                                                                                                                                                                                                                                                                                                                                                                                                                                                                                                                                                                                                                                                                                                                                                                                                                                                                                                                                                                                                                                                                                                                                                                                                                                                            38\n",
       "Great place!                                                                                                                                                                                                                                                                                                                                                                                                                                                                                                                                                                                                                                                                                                                                                                                                                                                                                                                                                                                                                                                                                                                                                                                                                                                                                                                                                                                                                                                                                                                                                                                                                                                                                                                                                                                                                                                                                                                                                                                                                                                                                                                                                                                                                                                                                                                                                                                                                                                                                                                                                                                                                                                                                                                                                                                                                                                                                                                                                                                                                                                                                                                                                                               28\n",
       "Great place                                                                                                                                                                                                                                                                                                                                                                                                                                                                                                                                                                                                                                                                                                                                                                                                                                                                                                                                                                                                                                                                                                                                                                                                                                                                                                                                                                                                                                                                                                                                                                                                                                                                                                                                                                                                                                                                                                                                                                                                                                                                                                                                                                                                                                                                                                                                                                                                                                                                                                                                                                                                                                                                                                                                                                                                                                                                                                                                                                                                                                                                                                                                                                                23\n",
       "Great location                                                                                                                                                                                                                                                                                                                                                                                                                                                                                                                                                                                                                                                                                                                                                                                                                                                                                                                                                                                                                                                                                                                                                                                                                                                                                                                                                                                                                                                                                                                                                                                                                                                                                                                                                                                                                                                                                                                                                                                                                                                                                                                                                                                                                                                                                                                                                                                                                                                                                                                                                                                                                                                                                                                                                                                                                                                                                                                                                                                                                                                                                                                                                                             20\n",
       "                                                                                                                                                                                                                                                                                                                                                                                                                                                                                                                                                                                                                                                                                                                                                                                                                                                                                                                                                                                                                                                                                                                                                                                                                                                                                                                                                                                                                                                                                                                                                                                                                                                                                                                                                                                                                                                                                                                                                                                                                                                                                                                                                                                                                                                                                                                                                                                                                                                                                                                                                                                                                                                                                                                                                                                                                                                                                                                                                                                                                                                                                                                                                                                         ... \n",
       "Muito bom, recomendo! <br/>Apartamento muito bem localizado, acolhedor e limpo! O Diogo foi muito prestável!                                                                                                                                                                                                                                                                                                                                                                                                                                                                                                                                                                                                                                                                                                                                                                                                                                                                                                                                                                                                                                                                                                                                                                                                                                                                                                                                                                                                                                                                                                                                                                                                                                                                                                                                                                                                                                                                                                                                                                                                                                                                                                                                                                                                                                                                                                                                                                                                                                                                                                                                                                                                                                                                                                                                                                                                                                                                                                                                                                                                                                                                                1\n",
       "La ubicación del piso es inmejorable. El piso está muy bien y tiene de todo.                                                                                                                                                                                                                                                                                                                                                                                                                                                                                                                                                                                                                                                                                                                                                                                                                                                                                                                                                                                                                                                                                                                                                                                                                                                                                                                                                                                                                                                                                                                                                                                                                                                                                                                                                                                                                                                                                                                                                                                                                                                                                                                                                                                                                                                                                                                                                                                                                                                                                                                                                                                                                                                                                                                                                                                                                                                                                                                                                                                                                                                                                                                1\n",
       "What a wonderful apartment in a fun, bustling neighborhood.  Be sure to look over the restaurant recommendations provided, we frequented many and we were never disappointed.  Be aware, many were closed on Monday night, so if one of them interests you, be sure to check ahead. Diogo was so helpful and friendly upon check-in.  He recommend Pizzeria Lisboa as an option after our late check in and it was delicious! <br/><br/>We would not hesitate to stay here again!                                                                                                                                                                                                                                                                                                                                                                                                                                                                                                                                                                                                                                                                                                                                                                                                                                                                                                                                                                                                                                                                                                                                                                                                                                                                                                                                                                                                                                                                                                                                                                                                                                                                                                                                                                                                                                                                                                                                                                                                                                                                                                                                                                                                                                                                                                                                                                                                                                                                                                                                                                                                                                                                                                           1\n",
       "This is an amazing apartment in a great location! Wonderful amenities and it comes with a portable WiFi which is great. It’s in walking distance of so many things I highly recco!                                                                                                                                                                                                                                                                                                                                                                                                                                                                                                                                                                                                                                                                                                                                                                                                                                                                                                                                                                                                                                                                                                                                                                                                                                                                                                                                                                                                                                                                                                                                                                                                                                                                                                                                                                                                                                                                                                                                                                                                                                                                                                                                                                                                                                                                                                                                                                                                                                                                                                                                                                                                                                                                                                                                                                                                                                                                                                                                                                                                          1\n",
       "Hi everybody!<br/>If you want to live with cockroaches and in sweltering heat go for it...<br/>I have never experienced this kind of situation. <br/><br/>when we got to the apartment. Stifling heat. there is a lot of humidity. which causes breathing problems and allergy. the night we arrived we could hear the cockroaches flying. they come from the bathroom drawer. I had to remove all my stuff from the bathroom because it's disgusting. Feels like home is a very responsive agency. they must have brought in a disinfection company twice but it is no use because the cockroaches always come back. regarding humidity. when we arrived. my son had a lot of trouble breathing. there was a dehumidifier but it was broken. when I informed the agency. they brought a new one as well as a small air conditioning but i assure you that is not enough. we had the little fan at the top and the two devices but it is still so stuffy. it feels like a sauna or hammam. what i find irresponsible from the landlord and the agency is that they ignored the opinion of the last tenant who talks about this big problem. instead of finding a solution. they were content to rent again the apartment and with a broken dehumidifier! i have worked in real estate and i know what i am talking about. it is important to take into account the opinion of a tenant. it is irresponsible to rent an apartment with 10 cockroaches in the bathroom drawer walking around and so stifling heat that causes difficulty in breathing. you can't sleep well. we cannot enjoy the apartment. the clothes line is rusty and some parts are broken. it should have been changed. the living room table is not stable. it moves if you eat on it. impossible to cook because it is too hot. and if you open the windows everyone is looking at you because the apartment is on the ground floor.<br/>take care of your things because there are malicious people lying around. they are drug dealers. the police have already passed by to arrest some of them. down the street are prostitutes. <br/><br/>when I was offered to leave the apartment. it was almost towards the end of the stay. to find a new apartment the prices were excessively high. the agency as well as the owner did not want to find other solutions concerning cockroaches and humidity. there was a great lack of empathy. the agency is called feels like home but you won't feel like home unless you like cockroach company and live in a steam room. I have rented a lot of apartments around the world and this is the first time that I have been so disgusted with an apartment. I rented a property on the ground floor in Lisbon near Alcochete and no humidity. several air conditioners placed in such a way that we were not suffocating and no insect problems. in the current state I advise you not to rent this property as long as the persons in charge do not find the suitable situations so that the tenants benefit from the apartment. renting a property is not just thinking about your business. it is also thinking about the comfort of tenants and their health...      1\n",
       "Name: comments, Length: 79859, dtype: int64"
      ]
     },
     "execution_count": 47,
     "metadata": {},
     "output_type": "execute_result"
    }
   ],
   "source": [
    "test_reviews['comments'].value_counts()"
   ]
  },
  {
   "attachments": {},
   "cell_type": "markdown",
   "metadata": {},
   "source": [
    "Both in test and train reviews dataframes, we have that a single point is the most comomn review. it doesn't tell us much about the listings. This was also confirmed by the train/test_reviews.describe() cells"
   ]
  },
  {
   "attachments": {},
   "cell_type": "markdown",
   "metadata": {},
   "source": [
    "### Word Count"
   ]
  },
  {
   "cell_type": "code",
   "execution_count": 60,
   "metadata": {},
   "outputs": [
    {
     "data": {
      "text/html": [
       "<div>\n",
       "<style scoped>\n",
       "    .dataframe tbody tr th:only-of-type {\n",
       "        vertical-align: middle;\n",
       "    }\n",
       "\n",
       "    .dataframe tbody tr th {\n",
       "        vertical-align: top;\n",
       "    }\n",
       "\n",
       "    .dataframe thead th {\n",
       "        text-align: right;\n",
       "    }\n",
       "</style>\n",
       "<table border=\"1\" class=\"dataframe\">\n",
       "  <thead>\n",
       "    <tr style=\"text-align: right;\">\n",
       "      <th></th>\n",
       "      <th>description</th>\n",
       "      <th>word_count</th>\n",
       "    </tr>\n",
       "    <tr>\n",
       "      <th>index</th>\n",
       "      <th></th>\n",
       "      <th></th>\n",
       "    </tr>\n",
       "  </thead>\n",
       "  <tbody>\n",
       "    <tr>\n",
       "      <th>5683</th>\n",
       "      <td>&lt;b&gt;License number&lt;/b&gt;&lt;br /&gt;7797/AL</td>\n",
       "      <td>3</td>\n",
       "    </tr>\n",
       "    <tr>\n",
       "      <th>10317</th>\n",
       "      <td>&lt;b&gt;License number&lt;/b&gt;&lt;br /&gt;81309/AL</td>\n",
       "      <td>3</td>\n",
       "    </tr>\n",
       "    <tr>\n",
       "      <th>11607</th>\n",
       "      <td>&lt;b&gt;License number&lt;/b&gt;&lt;br /&gt;87804/AL</td>\n",
       "      <td>3</td>\n",
       "    </tr>\n",
       "    <tr>\n",
       "      <th>7564</th>\n",
       "      <td>&lt;b&gt;License number&lt;/b&gt;&lt;br /&gt;48184/AL</td>\n",
       "      <td>3</td>\n",
       "    </tr>\n",
       "    <tr>\n",
       "      <th>12194</th>\n",
       "      <td>&lt;b&gt;License number&lt;/b&gt;&lt;br /&gt;Exempt</td>\n",
       "      <td>3</td>\n",
       "    </tr>\n",
       "    <tr>\n",
       "      <th>...</th>\n",
       "      <td>...</td>\n",
       "      <td>...</td>\n",
       "    </tr>\n",
       "    <tr>\n",
       "      <th>2047</th>\n",
       "      <td>Sunny apartment 10 m from beach and train stat...</td>\n",
       "      <td>205</td>\n",
       "    </tr>\n",
       "    <tr>\n",
       "      <th>6453</th>\n",
       "      <td>Apartamento completo de Dois pisos ,total de 4...</td>\n",
       "      <td>205</td>\n",
       "    </tr>\n",
       "    <tr>\n",
       "      <th>6600</th>\n",
       "      <td>Casa das Mónicas is a 3-storey house between  ...</td>\n",
       "      <td>205</td>\n",
       "    </tr>\n",
       "    <tr>\n",
       "      <th>12472</th>\n",
       "      <td>The villa in Ericeira has 3 bedrooms and has c...</td>\n",
       "      <td>206</td>\n",
       "    </tr>\n",
       "    <tr>\n",
       "      <th>3550</th>\n",
       "      <td>The villa in Ericeira has 2 bedrooms and has c...</td>\n",
       "      <td>210</td>\n",
       "    </tr>\n",
       "  </tbody>\n",
       "</table>\n",
       "<p>12496 rows × 2 columns</p>\n",
       "</div>"
      ],
      "text/plain": [
       "                                             description  word_count\n",
       "index                                                               \n",
       "5683                  <b>License number</b><br />7797/AL           3\n",
       "10317                <b>License number</b><br />81309/AL           3\n",
       "11607                <b>License number</b><br />87804/AL           3\n",
       "7564                 <b>License number</b><br />48184/AL           3\n",
       "12194                  <b>License number</b><br />Exempt           3\n",
       "...                                                  ...         ...\n",
       "2047   Sunny apartment 10 m from beach and train stat...         205\n",
       "6453   Apartamento completo de Dois pisos ,total de 4...         205\n",
       "6600   Casa das Mónicas is a 3-storey house between  ...         205\n",
       "12472  The villa in Ericeira has 3 bedrooms and has c...         206\n",
       "3550   The villa in Ericeira has 2 bedrooms and has c...         210\n",
       "\n",
       "[12496 rows x 2 columns]"
      ]
     },
     "execution_count": 60,
     "metadata": {},
     "output_type": "execute_result"
    }
   ],
   "source": [
    "train_data['word_count']  = train_data['description'].apply(lambda x: len(str(x).split(\" \")))\n",
    "train_data = train_data.sort_values(by='word_count', ascending=True)\n",
    "train_data[['description','word_count']]"
   ]
  },
  {
   "cell_type": "code",
   "execution_count": 66,
   "metadata": {},
   "outputs": [
    {
     "data": {
      "text/plain": [
       "<Axes: >"
      ]
     },
     "execution_count": 66,
     "metadata": {},
     "output_type": "execute_result"
    },
    {
     "data": {
      "image/png": "[encoded data removed]",
      "text/plain": [
       "<Figure size 640x480 with 1 Axes>"
      ]
     },
     "metadata": {},
     "output_type": "display_data"
    }
   ],
   "source": [
    "train_data['word_count'].hist()"
   ]
  },
  {
   "cell_type": "code",
   "execution_count": 61,
   "metadata": {},
   "outputs": [
    {
     "data": {
      "text/html": [
       "<div>\n",
       "<style scoped>\n",
       "    .dataframe tbody tr th:only-of-type {\n",
       "        vertical-align: middle;\n",
       "    }\n",
       "\n",
       "    .dataframe tbody tr th {\n",
       "        vertical-align: top;\n",
       "    }\n",
       "\n",
       "    .dataframe thead th {\n",
       "        text-align: right;\n",
       "    }\n",
       "</style>\n",
       "<table border=\"1\" class=\"dataframe\">\n",
       "  <thead>\n",
       "    <tr style=\"text-align: right;\">\n",
       "      <th></th>\n",
       "      <th>description</th>\n",
       "      <th>word_count</th>\n",
       "    </tr>\n",
       "    <tr>\n",
       "      <th>index</th>\n",
       "      <th></th>\n",
       "      <th></th>\n",
       "    </tr>\n",
       "  </thead>\n",
       "  <tbody>\n",
       "    <tr>\n",
       "      <th>134</th>\n",
       "      <td>&lt;b&gt;License number&lt;/b&gt;&lt;br /&gt;121745/AL</td>\n",
       "      <td>3</td>\n",
       "    </tr>\n",
       "    <tr>\n",
       "      <th>860</th>\n",
       "      <td>&lt;b&gt;License number&lt;/b&gt;&lt;br /&gt;56788/AL</td>\n",
       "      <td>3</td>\n",
       "    </tr>\n",
       "    <tr>\n",
       "      <th>543</th>\n",
       "      <td>&lt;b&gt;License number&lt;/b&gt;&lt;br /&gt;26330/AL</td>\n",
       "      <td>3</td>\n",
       "    </tr>\n",
       "    <tr>\n",
       "      <th>468</th>\n",
       "      <td>&lt;b&gt;License number&lt;/b&gt;&lt;br /&gt;44062-AL</td>\n",
       "      <td>3</td>\n",
       "    </tr>\n",
       "    <tr>\n",
       "      <th>643</th>\n",
       "      <td>&lt;b&gt;License number&lt;/b&gt;&lt;br /&gt;17490/AL</td>\n",
       "      <td>3</td>\n",
       "    </tr>\n",
       "    <tr>\n",
       "      <th>...</th>\n",
       "      <td>...</td>\n",
       "      <td>...</td>\n",
       "    </tr>\n",
       "    <tr>\n",
       "      <th>491</th>\n",
       "      <td>Be very welcome to the Bamboo Beach house! A a...</td>\n",
       "      <td>195</td>\n",
       "    </tr>\n",
       "    <tr>\n",
       "      <th>1177</th>\n",
       "      <td>The Family Cottage.&lt;br /&gt;&lt;br /&gt;Wake up to the ...</td>\n",
       "      <td>197</td>\n",
       "    </tr>\n",
       "    <tr>\n",
       "      <th>655</th>\n",
       "      <td>The villa in Ericeira has 4 bedrooms and has c...</td>\n",
       "      <td>204</td>\n",
       "    </tr>\n",
       "    <tr>\n",
       "      <th>1314</th>\n",
       "      <td>The house in Ericeira has 2 bedrooms and has c...</td>\n",
       "      <td>219</td>\n",
       "    </tr>\n",
       "    <tr>\n",
       "      <th>579</th>\n",
       "      <td>Next to the most sophisticated and chique Aven...</td>\n",
       "      <td>347</td>\n",
       "    </tr>\n",
       "  </tbody>\n",
       "</table>\n",
       "<p>1389 rows × 2 columns</p>\n",
       "</div>"
      ],
      "text/plain": [
       "                                             description  word_count\n",
       "index                                                               \n",
       "134                 <b>License number</b><br />121745/AL           3\n",
       "860                  <b>License number</b><br />56788/AL           3\n",
       "543                  <b>License number</b><br />26330/AL           3\n",
       "468                  <b>License number</b><br />44062-AL           3\n",
       "643                  <b>License number</b><br />17490/AL           3\n",
       "...                                                  ...         ...\n",
       "491    Be very welcome to the Bamboo Beach house! A a...         195\n",
       "1177   The Family Cottage.<br /><br />Wake up to the ...         197\n",
       "655    The villa in Ericeira has 4 bedrooms and has c...         204\n",
       "1314   The house in Ericeira has 2 bedrooms and has c...         219\n",
       "579    Next to the most sophisticated and chique Aven...         347\n",
       "\n",
       "[1389 rows x 2 columns]"
      ]
     },
     "execution_count": 61,
     "metadata": {},
     "output_type": "execute_result"
    }
   ],
   "source": [
    "test_data['word_count']  = test_data['description'].apply(lambda x: len(str(x).split(\" \")))\n",
    "test_data = test_data.sort_values(by='word_count', ascending=True)\n",
    "test_data[['description','word_count']]"
   ]
  },
  {
   "cell_type": "code",
   "execution_count": 67,
   "metadata": {},
   "outputs": [
    {
     "data": {
      "text/plain": [
       "<Axes: >"
      ]
     },
     "execution_count": 67,
     "metadata": {},
     "output_type": "execute_result"
    },
    {
     "data": {
      "image/png": "[encoded data removed]",
      "text/plain": [
       "<Figure size 640x480 with 1 Axes>"
      ]
     },
     "metadata": {},
     "output_type": "display_data"
    }
   ],
   "source": [
    "test_data['word_count'].hist()"
   ]
  },
  {
   "cell_type": "code",
   "execution_count": 64,
   "metadata": {},
   "outputs": [
    {
     "data": {
      "text/html": [
       "<div>\n",
       "<style scoped>\n",
       "    .dataframe tbody tr th:only-of-type {\n",
       "        vertical-align: middle;\n",
       "    }\n",
       "\n",
       "    .dataframe tbody tr th {\n",
       "        vertical-align: top;\n",
       "    }\n",
       "\n",
       "    .dataframe thead th {\n",
       "        text-align: right;\n",
       "    }\n",
       "</style>\n",
       "<table border=\"1\" class=\"dataframe\">\n",
       "  <thead>\n",
       "    <tr style=\"text-align: right;\">\n",
       "      <th></th>\n",
       "      <th>comments</th>\n",
       "      <th>word_count</th>\n",
       "    </tr>\n",
       "  </thead>\n",
       "  <tbody>\n",
       "    <tr>\n",
       "      <th>120147</th>\n",
       "      <td>Luis的房子地點非常的好，無論是地鐵、28號公車、或是其他交通工具。房子非常舒適，所有需要...</td>\n",
       "      <td>1</td>\n",
       "    </tr>\n",
       "    <tr>\n",
       "      <th>250391</th>\n",
       "      <td>RAS</td>\n",
       "      <td>1</td>\n",
       "    </tr>\n",
       "    <tr>\n",
       "      <th>643206</th>\n",
       "      <td>太超乎預期了！&lt;br/&gt;兩間房間都非常乾淨舒適&lt;br/&gt;有客廳又有餐廳&lt;br/&gt;廚房設備非常...</td>\n",
       "      <td>1</td>\n",
       "    </tr>\n",
       "    <tr>\n",
       "      <th>247665</th>\n",
       "      <td>Good</td>\n",
       "      <td>1</td>\n",
       "    </tr>\n",
       "    <tr>\n",
       "      <th>62621</th>\n",
       "      <td>X</td>\n",
       "      <td>1</td>\n",
       "    </tr>\n",
       "    <tr>\n",
       "      <th>...</th>\n",
       "      <td>...</td>\n",
       "      <td>...</td>\n",
       "    </tr>\n",
       "    <tr>\n",
       "      <th>174862</th>\n",
       "      <td>We strongly recommend Villa Roma Townhouse/Apt...</td>\n",
       "      <td>1003</td>\n",
       "    </tr>\n",
       "    <tr>\n",
       "      <th>145075</th>\n",
       "      <td>Longe de atender minhas espectativas, vou come...</td>\n",
       "      <td>1005</td>\n",
       "    </tr>\n",
       "    <tr>\n",
       "      <th>408765</th>\n",
       "      <td>The apartment is nice and the view is amazing,...</td>\n",
       "      <td>1007</td>\n",
       "    </tr>\n",
       "    <tr>\n",
       "      <th>120285</th>\n",
       "      <td>This is the first bad review I have ever writt...</td>\n",
       "      <td>1019</td>\n",
       "    </tr>\n",
       "    <tr>\n",
       "      <th>478814</th>\n",
       "      <td>This feedback and review is based on our stay ...</td>\n",
       "      <td>1064</td>\n",
       "    </tr>\n",
       "  </tbody>\n",
       "</table>\n",
       "<p>721402 rows × 2 columns</p>\n",
       "</div>"
      ],
      "text/plain": [
       "                                                 comments  word_count\n",
       "120147  Luis的房子地點非常的好，無論是地鐵、28號公車、或是其他交通工具。房子非常舒適，所有需要...           1\n",
       "250391                                                RAS           1\n",
       "643206  太超乎預期了！<br/>兩間房間都非常乾淨舒適<br/>有客廳又有餐廳<br/>廚房設備非常...           1\n",
       "247665                                               Good           1\n",
       "62621                                                   X           1\n",
       "...                                                   ...         ...\n",
       "174862  We strongly recommend Villa Roma Townhouse/Apt...        1003\n",
       "145075  Longe de atender minhas espectativas, vou come...        1005\n",
       "408765  The apartment is nice and the view is amazing,...        1007\n",
       "120285  This is the first bad review I have ever writt...        1019\n",
       "478814  This feedback and review is based on our stay ...        1064\n",
       "\n",
       "[721402 rows x 2 columns]"
      ]
     },
     "execution_count": 64,
     "metadata": {},
     "output_type": "execute_result"
    }
   ],
   "source": [
    "train_reviews['word_count']  = train_reviews['comments'].apply(lambda x: len(str(x).split(\" \")))\n",
    "train_reviews = train_reviews.sort_values(by='word_count', ascending=True)\n",
    "train_reviews[['comments','word_count']]"
   ]
  },
  {
   "cell_type": "code",
   "execution_count": 68,
   "metadata": {},
   "outputs": [
    {
     "data": {
      "text/plain": [
       "<Axes: >"
      ]
     },
     "execution_count": 68,
     "metadata": {},
     "output_type": "execute_result"
    },
    {
     "data": {
      "image/png": "[encoded data removed]",
      "text/plain": [
       "<Figure size 640x480 with 1 Axes>"
      ]
     },
     "metadata": {},
     "output_type": "display_data"
    }
   ],
   "source": [
    "train_reviews['word_count'].hist()"
   ]
  },
  {
   "cell_type": "code",
   "execution_count": 65,
   "metadata": {},
   "outputs": [
    {
     "data": {
      "text/html": [
       "<div>\n",
       "<style scoped>\n",
       "    .dataframe tbody tr th:only-of-type {\n",
       "        vertical-align: middle;\n",
       "    }\n",
       "\n",
       "    .dataframe tbody tr th {\n",
       "        vertical-align: top;\n",
       "    }\n",
       "\n",
       "    .dataframe thead th {\n",
       "        text-align: right;\n",
       "    }\n",
       "</style>\n",
       "<table border=\"1\" class=\"dataframe\">\n",
       "  <thead>\n",
       "    <tr style=\"text-align: right;\">\n",
       "      <th></th>\n",
       "      <th>comments</th>\n",
       "      <th>word_count</th>\n",
       "    </tr>\n",
       "  </thead>\n",
       "  <tbody>\n",
       "    <tr>\n",
       "      <th>5398</th>\n",
       "      <td>房东迟到30分钟。。。。</td>\n",
       "      <td>1</td>\n",
       "    </tr>\n",
       "    <tr>\n",
       "      <th>39705</th>\n",
       "      <td>テージョ川を見下ろす立地、地下鉄の駅まで4分足らず、近くに多くの&lt;br/&gt;バルやファド、レス...</td>\n",
       "      <td>1</td>\n",
       "    </tr>\n",
       "    <tr>\n",
       "      <th>33701</th>\n",
       "      <td>Perfeito!</td>\n",
       "      <td>1</td>\n",
       "    </tr>\n",
       "    <tr>\n",
       "      <th>56866</th>\n",
       "      <td>-</td>\n",
       "      <td>1</td>\n",
       "    </tr>\n",
       "    <tr>\n",
       "      <th>17222</th>\n",
       "      <td>good</td>\n",
       "      <td>1</td>\n",
       "    </tr>\n",
       "    <tr>\n",
       "      <th>...</th>\n",
       "      <td>...</td>\n",
       "      <td>...</td>\n",
       "    </tr>\n",
       "    <tr>\n",
       "      <th>41137</th>\n",
       "      <td>This is an excellent apartment, and if I could...</td>\n",
       "      <td>850</td>\n",
       "    </tr>\n",
       "    <tr>\n",
       "      <th>32601</th>\n",
       "      <td>How long we stayed&lt;br/&gt;1 month. January 15 - F...</td>\n",
       "      <td>894</td>\n",
       "    </tr>\n",
       "    <tr>\n",
       "      <th>43945</th>\n",
       "      <td>Exma Senhora,&lt;br/&gt;&lt;br/&gt;Tenha vergonha na cara!...</td>\n",
       "      <td>961</td>\n",
       "    </tr>\n",
       "    <tr>\n",
       "      <th>66437</th>\n",
       "      <td>I had requested the host for check-in at 13.30...</td>\n",
       "      <td>965</td>\n",
       "    </tr>\n",
       "    <tr>\n",
       "      <th>19704</th>\n",
       "      <td>I was very disappointed with my stay at Claudi...</td>\n",
       "      <td>989</td>\n",
       "    </tr>\n",
       "  </tbody>\n",
       "</table>\n",
       "<p>80877 rows × 2 columns</p>\n",
       "</div>"
      ],
      "text/plain": [
       "                                                comments  word_count\n",
       "5398                                        房东迟到30分钟。。。。           1\n",
       "39705  テージョ川を見下ろす立地、地下鉄の駅まで4分足らず、近くに多くの<br/>バルやファド、レス...           1\n",
       "33701                                          Perfeito!           1\n",
       "56866                                                  -           1\n",
       "17222                                               good           1\n",
       "...                                                  ...         ...\n",
       "41137  This is an excellent apartment, and if I could...         850\n",
       "32601  How long we stayed<br/>1 month. January 15 - F...         894\n",
       "43945  Exma Senhora,<br/><br/>Tenha vergonha na cara!...         961\n",
       "66437  I had requested the host for check-in at 13.30...         965\n",
       "19704  I was very disappointed with my stay at Claudi...         989\n",
       "\n",
       "[80877 rows x 2 columns]"
      ]
     },
     "execution_count": 65,
     "metadata": {},
     "output_type": "execute_result"
    }
   ],
   "source": [
    "test_reviews['word_count']  = test_reviews['comments'].apply(lambda x: len(str(x).split(\" \")))\n",
    "test_reviews = test_reviews.sort_values(by='word_count', ascending=True)\n",
    "test_reviews[['comments','word_count']]"
   ]
  },
  {
   "cell_type": "code",
   "execution_count": 69,
   "metadata": {},
   "outputs": [
    {
     "data": {
      "text/plain": [
       "<Axes: >"
      ]
     },
     "execution_count": 69,
     "metadata": {},
     "output_type": "execute_result"
    },
    {
     "data": {
      "image/png": "[encoded data removed]",
      "text/plain": [
       "<Figure size 640x480 with 1 Axes>"
      ]
     },
     "metadata": {},
     "output_type": "display_data"
    }
   ],
   "source": [
    "test_reviews['word_count'].hist()"
   ]
  },
  {
   "attachments": {},
   "cell_type": "markdown",
   "metadata": {},
   "source": [
    "### Word Frequencies"
   ]
  },
  {
   "attachments": {},
   "cell_type": "markdown",
   "metadata": {},
   "source": [
    "<div class=\"alert alert-block alert-info\">\n",
    "\n",
    "# <font color='#bfd532'>2. Data Preprocessing</font> <a class=\"anchor\" id=\"preprocessing\"></a>\n",
    "    \n",
    "</div>"
   ]
  },
  {
   "cell_type": "code",
   "execution_count": null,
   "metadata": {},
   "outputs": [],
   "source": []
  },
  {
   "attachments": {},
   "cell_type": "markdown",
   "metadata": {},
   "source": [
    "<div class=\"alert alert-block alert-info\">\n",
    "\n",
    "# <font color='#bfd532'>3. Feature Engineering</font> <a class=\"anchor\" id=\"featureengineering\"></a>\n",
    "    \n",
    "</div>"
   ]
  },
  {
   "attachments": {},
   "cell_type": "markdown",
   "metadata": {},
   "source": [
    "create a new binary feature. checkig if that listing already has reviews or not, maybe just a new feature called 'number_of_reviews'-- idk maybe?"
   ]
  },
  {
   "cell_type": "code",
   "execution_count": null,
   "metadata": {},
   "outputs": [],
   "source": []
  },
  {
   "attachments": {},
   "cell_type": "markdown",
   "metadata": {},
   "source": [
    "<div class=\"alert alert-block alert-info\">\n",
    "\n",
    "# <font color='#bfd532'>4. Classification Models</font> <a class=\"anchor\" id=\"classificationmodels\"></a>\n",
    "    \n",
    "</div>"
   ]
  },
  {
   "cell_type": "code",
   "execution_count": null,
   "metadata": {},
   "outputs": [],
   "source": []
  },
  {
   "attachments": {},
   "cell_type": "markdown",
   "metadata": {},
   "source": [
    "<div class=\"alert alert-block alert-info\">\n",
    "\n",
    "# <font color='#bfd532'>5. Evaluation</font> <a class=\"anchor\" id=\"evaluation\"></a>\n",
    "    \n",
    "</div>"
   ]
  },
  {
   "cell_type": "code",
   "execution_count": null,
   "metadata": {},
   "outputs": [],
   "source": []
  }
 ],
 "metadata": {
  "kernelspec": {
   "display_name": "Python 3",
   "language": "python",
   "name": "python3"
  },
  "language_info": {
   "codemirror_mode": {
    "name": "ipython",
    "version": 3
   },
   "file_extension": ".py",
   "mimetype": "text/x-python",
   "name": "python",
   "nbconvert_exporter": "python",
   "pygments_lexer": "ipython3",
   "version": "3.9.6"
  },
  "orig_nbformat": 4
 },
 "nbformat": 4,
 "nbformat_minor": 2
}
